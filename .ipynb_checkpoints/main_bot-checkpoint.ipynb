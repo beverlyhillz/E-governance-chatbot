{
 "cells": [
  {
   "cell_type": "code",
   "execution_count": null,
   "metadata": {
    "code_folding": []
   },
   "outputs": [
    {
     "name": "stdout",
     "output_type": "stream",
     "text": [
      "Loading resources...\n",
      "Ready to talk : hey\n",
      "I think its about varishtha pension bima yojana\n"
     ]
    }
   ],
   "source": [
    "from dialogue_manager import *\n",
    "from utils import *\n",
    "\n",
    "class BotHandler(object):\n",
    "\n",
    "    def __init__(self, dialogue_manager):\n",
    "        self.dialogue_manager = dialogue_manager\n",
    "\n",
    "\n",
    "    \n",
    "    def get_answer(self, question):\n",
    "        if question == '/start':\n",
    "            return \"Hi, I am your E-gov bot. How can I help you today?\"\n",
    "        return self.dialogue_manager.generate_answer(question)\n",
    "\n",
    "def main():\n",
    "    \n",
    "   \n",
    "    \n",
    "    simple_manager = DialogueManager(RESOURCE_PATH)\n",
    "    #simple_manager.create_chitchat_bot()\n",
    "\n",
    "    \n",
    "    bot = BotHandler(simple_manager)\n",
    "    inp=\"/start\"\n",
    "    i=0;\n",
    "    while(inp!='0'):\n",
    "        inp=input(\"Ready to talk : \")\n",
    "        i=i+1;\n",
    "        print(bot.get_answer(inp))\n",
    "    \n",
    "\n",
    "if __name__ == \"__main__\":\n",
    "    main()\n"
   ]
  },
  {
   "cell_type": "code",
   "execution_count": null,
   "metadata": {},
   "outputs": [],
   "source": []
  }
 ],
 "metadata": {
  "kernelspec": {
   "display_name": "Python 3",
   "language": "python",
   "name": "python3"
  },
  "language_info": {
   "codemirror_mode": {
    "name": "ipython",
    "version": 3
   },
   "file_extension": ".py",
   "mimetype": "text/x-python",
   "name": "python",
   "nbconvert_exporter": "python",
   "pygments_lexer": "ipython3",
   "version": "3.5.2"
  }
 },
 "nbformat": 4,
 "nbformat_minor": 2
}
