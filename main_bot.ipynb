{
 "cells": [
  {
   "cell_type": "code",
   "execution_count": null,
   "metadata": {
    "code_folding": []
   },
   "outputs": [
    {
     "name": "stdout",
     "output_type": "stream",
     "text": [
      "Loading resources...\n",
      "ai.yml Training: [####################] 100%\n",
      "botprofile.yml Training: [####################] 100%\n",
      "computers.yml Training: [####################] 100%\n",
      "conversations.yml Training: [####################] 100%\n",
      "drugs.yml Training: [####################] 100%\n",
      "emotion.yml Training: [####################] 100%\n",
      "food.yml Training: [####################] 100%\n",
      "gossip.yml Training: [####################] 100%\n",
      "greetings.yml Training: [####################] 100%\n",
      "history.yml Training: [####################] 100%\n",
      "humor.yml Training: [####################] 100%\n",
      "literature.yml Training: [####################] 100%\n",
      "money.yml Training: [####################] 100%\n",
      "movies.yml Training: [####################] 100%\n",
      "politics.yml Training: [####################] 100%\n",
      "psychology.yml Training: [####################] 100%\n",
      "science.yml Training: [####################] 100%\n",
      "sports.yml Training: [####################] 100%\n",
      "trivia.yml Training: [####################] 100%\n",
      "Ready to talk : hi\n",
      "How are you doing?\n",
      "Ready to talk : i'm fine. how about you?\n",
      "I'm also good.\n",
      "Ready to talk : what is date of birth\n",
      "A chat robot is a program that attempts to simulate the conversation or \"chat\" of a human being.\n",
      "Ready to talk : who is your creator?\n",
      "A human\n",
      "Ready to talk : which human?\n",
      "a message that communicate laughter.\n",
      "Ready to talk : do you belive ingod?\n",
      "Are you bored\n",
      "Ready to talk : do you belive in god ?\n",
      "Are you bored\n",
      "Ready to talk : maaf kardo\n",
      "Try not to be too scared.\n",
      "Ready to talk : tell me about mudra yojna\n",
      "Is it the scheme you are talking about pradhan mantri mudra yojana, may be this helps you:  \n",
      " What is MUDRA?: \n",
      "MUDRA, which stands for Micro Units Development & Refinance Agency Ltd, is a financial institution\n",
      "being set up by Government of India for development and refinancing micro units enterprises \n",
      " Thanks for using chatbot\n",
      "Ready to talk : what is your age\n",
      "I am still young\n"
     ]
    }
   ],
   "source": [
    "from dialogue_manager import *\n",
    "from utils import *\n",
    "\n",
    "class BotHandler(object):\n",
    "\n",
    "    def __init__(self, dialogue_manager):\n",
    "        self.dialogue_manager = dialogue_manager\n",
    "\n",
    "\n",
    "    \n",
    "    def get_answer(self, question):\n",
    "        if question == '/start':\n",
    "            return \"Hi, I am your E-gov bot. How can I help you today?\"\n",
    "        return self.dialogue_manager.generate_answer(question)\n",
    "\n",
    "def main():\n",
    "    \n",
    "   \n",
    "    \n",
    "    simple_manager = DialogueManager(RESOURCE_PATH)\n",
    "    simple_manager.create_chitchat_bot()\n",
    "\n",
    "    \n",
    "    bot = BotHandler(simple_manager)\n",
    "    inp=\"/start\"\n",
    "    i=0;\n",
    "    while(inp!='0'):\n",
    "        inp=input(\"Ready to talk : \")\n",
    "        i=i+1;\n",
    "        print(bot.get_answer(inp))\n",
    "    \n",
    "\n",
    "if __name__ == \"__main__\":\n",
    "    main()\n"
   ]
  },
  {
   "cell_type": "code",
   "execution_count": null,
   "metadata": {},
   "outputs": [],
   "source": []
  }
 ],
 "metadata": {
  "kernelspec": {
   "display_name": "Python 3",
   "language": "python",
   "name": "python3"
  },
  "language_info": {
   "codemirror_mode": {
    "name": "ipython",
    "version": 3
   },
   "file_extension": ".py",
   "mimetype": "text/x-python",
   "name": "python",
   "nbconvert_exporter": "python",
   "pygments_lexer": "ipython3",
   "version": "3.5.2"
  }
 },
 "nbformat": 4,
 "nbformat_minor": 2
}
